{
 "cells": [
  {
   "cell_type": "code",
   "execution_count": 1,
   "metadata": {},
   "outputs": [],
   "source": [
    "import requests\n",
    "from bs4 import BeautifulSoup"
   ]
  },
  {
   "cell_type": "code",
   "execution_count": 19,
   "metadata": {},
   "outputs": [],
   "source": [
    "src = \"\"\"<!DOCTYPE html>\n",
    "<html lang=\"en\">\n",
    "<head>\n",
    "    <title>Trash File</title>\n",
    "</head>\n",
    "<body>\n",
    "    <p>This is a paragraph</p>\n",
    "\n",
    "    <div class=\"container\" id=\"container\">\n",
    "        <p>paragraph inside div container</p>\n",
    "        <div class=\"list\">\n",
    "            <ul class=\"list-of-items\">\n",
    "                <li>Item 1</li>\n",
    "                <li>Item 2</li>\n",
    "                <li>Item 3</li>\n",
    "                <li>Item 4</li>\n",
    "            </ul>\n",
    "            <ul class=\"list-of-items-2\">\n",
    "                <li>Item 5</li>\n",
    "                <li>Item 6</li>\n",
    "                <li>Item 7</li>\n",
    "            </ul>\n",
    "            <p>\n",
    "                Lorem ipsum dolor sit amet consectetur adipisicing elit. Natus repellat hic laborum qui? Cupiditate inventore maxime beatae nisi, dignissimos suscipit, commodi amet ducimus voluptate exercitationem labore perspiciatis veniam minima quae.\n",
    "            </p>\n",
    "        </div>\n",
    "    </div>\n",
    "</body>\n",
    "</html>\"\"\""
   ]
  },
  {
   "cell_type": "code",
   "execution_count": 20,
   "metadata": {},
   "outputs": [],
   "source": [
    "# url = \"https://www.indiatoday.in/sports\"\n",
    "# fetching the html doc from web\n",
    "# response = requests.get(url)\n",
    "# parsing the html doc to bs4 object\n",
    "soup = BeautifulSoup(src , 'lxml')"
   ]
  },
  {
   "cell_type": "code",
   "execution_count": 21,
   "metadata": {},
   "outputs": [],
   "source": [
    "# ul_tag = soup.find('ul' , class_ = 'itg-listing')\n",
    "\n",
    "container = soup.find(id='container')"
   ]
  },
  {
   "cell_type": "code",
   "execution_count": 22,
   "metadata": {},
   "outputs": [
    {
     "data": {
      "text/plain": [
       "bs4.element.Tag"
      ]
     },
     "execution_count": 22,
     "metadata": {},
     "output_type": "execute_result"
    }
   ],
   "source": [
    "type(container)"
   ]
  },
  {
   "cell_type": "code",
   "execution_count": 23,
   "metadata": {},
   "outputs": [
    {
     "data": {
      "text/plain": [
       "<div class=\"container\" id=\"container\">\n",
       "<p>paragraph inside div container</p>\n",
       "<div class=\"list\">\n",
       "<ul class=\"list-of-items\">\n",
       "<li>Item 1</li>\n",
       "<li>Item 2</li>\n",
       "<li>Item 3</li>\n",
       "<li>Item 4</li>\n",
       "</ul>\n",
       "<ul class=\"list-of-items-2\">\n",
       "<li>Item 5</li>\n",
       "<li>Item 6</li>\n",
       "<li>Item 7</li>\n",
       "</ul>\n",
       "<p>\n",
       "                Lorem ipsum dolor sit amet consectetur adipisicing elit. Natus repellat hic laborum qui? Cupiditate inventore maxime beatae nisi, dignissimos suscipit, commodi amet ducimus voluptate exercitationem labore perspiciatis veniam minima quae.\n",
       "            </p>\n",
       "</div>\n",
       "</div>"
      ]
     },
     "execution_count": 23,
     "metadata": {},
     "output_type": "execute_result"
    }
   ],
   "source": [
    "container"
   ]
  },
  {
   "cell_type": "code",
   "execution_count": 31,
   "metadata": {},
   "outputs": [],
   "source": [
    "search_soup = soup.find_all(text=['paragraph'])"
   ]
  },
  {
   "cell_type": "code",
   "execution_count": 32,
   "metadata": {},
   "outputs": [
    {
     "data": {
      "text/plain": [
       "[]"
      ]
     },
     "execution_count": 32,
     "metadata": {},
     "output_type": "execute_result"
    }
   ],
   "source": [
    "search_soup"
   ]
  },
  {
   "cell_type": "code",
   "execution_count": 46,
   "metadata": {},
   "outputs": [
    {
     "data": {
      "text/plain": [
       "True"
      ]
     },
     "execution_count": 46,
     "metadata": {},
     "output_type": "execute_result"
    }
   ],
   "source": [
    "soup.find(id='container').has_attr(key='class')\n",
    "# soup.finhas_attr(key='id')"
   ]
  },
  {
   "cell_type": "code",
   "execution_count": 78,
   "metadata": {},
   "outputs": [],
   "source": [
    "d = soup.find('div').descendant"
   ]
  },
  {
   "cell_type": "code",
   "execution_count": 79,
   "metadata": {},
   "outputs": [
    {
     "name": "stdout",
     "output_type": "stream",
     "text": [
      "None\n"
     ]
    }
   ],
   "source": [
    "print(d)"
   ]
  },
  {
   "cell_type": "code",
   "execution_count": 81,
   "metadata": {},
   "outputs": [
    {
     "data": {
      "text/plain": [
       "<p>paragraph inside div container</p>"
      ]
     },
     "execution_count": 81,
     "metadata": {},
     "output_type": "execute_result"
    }
   ],
   "source": [
    "soup.find('div').next_element.next_element"
   ]
  },
  {
   "cell_type": "code",
   "execution_count": 86,
   "metadata": {},
   "outputs": [],
   "source": [
    "from scipy.spatial.distance import cdist\n",
    "import numpy as np"
   ]
  },
  {
   "cell_type": "code",
   "execution_count": 107,
   "metadata": {},
   "outputs": [
    {
     "name": "stdout",
     "output_type": "stream",
     "text": [
      "(6,) (2,)\n",
      "(6, 1) (2, 1)\n"
     ]
    }
   ],
   "source": [
    "a = np.array([1,2,3,4,5,6])\n",
    "b = np.array([0,2])\n",
    "\n",
    "print(a.shape , b.shape)\n",
    "\n",
    "a = a.reshape(len(a) , 1)\n",
    "b = b.reshape(2,1)\n",
    "\n",
    "print(a.shape , b.shape)"
   ]
  },
  {
   "cell_type": "code",
   "execution_count": 108,
   "metadata": {},
   "outputs": [
    {
     "name": "stdout",
     "output_type": "stream",
     "text": [
      "[[1]\n",
      " [2]\n",
      " [3]\n",
      " [4]\n",
      " [5]\n",
      " [6]]\n",
      "----------------\n",
      "[[0]\n",
      " [2]]\n"
     ]
    }
   ],
   "source": [
    "print(a , b , sep='\\n----------------\\n')"
   ]
  },
  {
   "cell_type": "code",
   "execution_count": 111,
   "metadata": {},
   "outputs": [
    {
     "data": {
      "text/plain": [
       "2.6666666666666665"
      ]
     },
     "execution_count": 111,
     "metadata": {},
     "output_type": "execute_result"
    }
   ],
   "source": [
    "np.mean(cdist(b , a , 'euclidean'))"
   ]
  },
  {
   "cell_type": "code",
   "execution_count": null,
   "metadata": {},
   "outputs": [],
   "source": []
  }
 ],
 "metadata": {
  "kernelspec": {
   "display_name": "Python 3",
   "language": "python",
   "name": "python3"
  },
  "language_info": {
   "codemirror_mode": {
    "name": "ipython",
    "version": 3
   },
   "file_extension": ".py",
   "mimetype": "text/x-python",
   "name": "python",
   "nbconvert_exporter": "python",
   "pygments_lexer": "ipython3",
   "version": "3.7.1"
  }
 },
 "nbformat": 4,
 "nbformat_minor": 2
}
