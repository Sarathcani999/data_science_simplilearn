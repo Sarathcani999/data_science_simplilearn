{
 "cells": [
  {
   "cell_type": "markdown",
   "metadata": {},
   "source": [
    "**Problem:**\n",
    "<br>\n",
    "The given dataset contains ad budgets for different media channels and the corresponding ad sales of XYZ firm. Evaluate the dataset to:\n",
    "<br>\n",
    "* Find the features or media channels used by the firm\n",
    "* Find the sales figures for each channel\n",
    "* Create a model  to predict the sales outcome\n",
    "* Split as training and testing datasets for the model\n",
    "* Calculate the Mean Square Error (MSE)"
   ]
  },
  {
   "cell_type": "markdown",
   "metadata": {},
   "source": [
    "**Solution**\n",
    "<br>\n",
    "* The features or media channels used by the firm are **TV** , **Radio** , **Newspaper** \n",
    "* Sales figure for each channel is stored in array **y**\n",
    "* **Linear Regression model** is created for predicting the outcome\n",
    "* Data splitted to X_train , X_test , y_train , y_test at test size = 0.25 (or 25%)\n",
    "* MSE calculated as 2.018"
   ]
  }
 ],
 "metadata": {
  "kernelspec": {
   "display_name": "Python 3",
   "language": "python",
   "name": "python3"
  },
  "language_info": {
   "codemirror_mode": {
    "name": "ipython",
    "version": 3
   },
   "file_extension": ".py",
   "mimetype": "text/x-python",
   "name": "python",
   "nbconvert_exporter": "python",
   "pygments_lexer": "ipython3",
   "version": "3.7.1"
  }
 },
 "nbformat": 4,
 "nbformat_minor": 2
}
