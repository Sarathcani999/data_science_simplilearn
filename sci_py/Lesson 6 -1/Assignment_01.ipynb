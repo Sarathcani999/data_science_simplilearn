{
 "cells": [
  {
   "cell_type": "markdown",
   "metadata": {
    "collapsed": true
   },
   "source": [
    "# ASSIGNMENT - SciPy 01"
   ]
  },
  {
   "cell_type": "markdown",
   "metadata": {},
   "source": [
    "#### 1: Import required libraries"
   ]
  },
  {
   "cell_type": "code",
   "execution_count": 2,
   "metadata": {},
   "outputs": [],
   "source": [
    "import scipy.linalg as linalg\n",
    "import numpy as np"
   ]
  },
  {
   "cell_type": "markdown",
   "metadata": {},
   "source": [
    "#### 2: Formulate two linear equations based on the given scenario"
   ]
  },
  {
   "cell_type": "code",
   "execution_count": 4,
   "metadata": {},
   "outputs": [],
   "source": [
    "# There is a test with 30 questions worth 150 marks. The test has two types of questions:\n",
    "# 1. True or false – carries 4 marks each\n",
    "# 2. Multiple-choice – carries 9 marks each\n",
    "\n",
    "# Let no of true/false question be x and no of mcq be y then,\n",
    "# x+y = 30 ---------------(1) , 4x + 9y = 150 ------------------(2)\n"
   ]
  },
  {
   "cell_type": "markdown",
   "metadata": {},
   "source": [
    "\n",
    "#### 3: Apply a suitable method to solve the linear equation\n"
   ]
  },
  {
   "cell_type": "code",
   "execution_count": 12,
   "metadata": {},
   "outputs": [],
   "source": [
    "x = np.array([\n",
    "    [1 , 1] ,\n",
    "    [4 , 9]\n",
    "])\n",
    "z = np.array([\n",
    "    [30],\n",
    "    [150]\n",
    "])\n",
    "\n",
    "sol_x , sol_y = linalg.solve(x,z)[0,0] , linalg.solve(x,z)[1,0]"
   ]
  },
  {
   "cell_type": "code",
   "execution_count": 15,
   "metadata": {},
   "outputs": [
    {
     "name": "stdout",
     "output_type": "stream",
     "text": [
      "Solution\n",
      "x = 24.0 \n",
      "y = 6.0\n"
     ]
    }
   ],
   "source": [
    "print(\"Solution\")\n",
    "print(\"x =\" , sol_x , \"\\ny =\" , sol_y)"
   ]
  }
 ],
 "metadata": {
  "kernelspec": {
   "display_name": "Python 3",
   "language": "python",
   "name": "python3"
  },
  "language_info": {
   "codemirror_mode": {
    "name": "ipython",
    "version": 3
   },
   "file_extension": ".py",
   "mimetype": "text/x-python",
   "name": "python",
   "nbconvert_exporter": "python",
   "pygments_lexer": "ipython3",
   "version": "3.7.1"
  }
 },
 "nbformat": 4,
 "nbformat_minor": 1
}
