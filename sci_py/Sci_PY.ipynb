{
 "cells": [
  {
   "cell_type": "markdown",
   "metadata": {},
   "source": [
    "### Basics"
   ]
  },
  {
   "cell_type": "markdown",
   "metadata": {},
   "source": [
    "Built on top of numpy. Therefore ,\n",
    "<br>\n",
    "* most mathematical and scientific functions are available."
   ]
  },
  {
   "cell_type": "markdown",
   "metadata": {},
   "source": [
    "#### Operations in sci py"
   ]
  },
  {
   "cell_type": "markdown",
   "metadata": {},
   "source": [
    "* File input/output\n",
    "<hr>\n",
    "* numercal operations - scipy.integrate\n",
    "<br>\n",
    "* special functions - scipy.special\n",
    "<br>\n",
    "* linear algebra operations - scipy.linalg\n",
    "<br>\n",
    "* statistics and random numbers - scipy.stats\n",
    "<hr>\n",
    "* Signal processing - scipy.signal\n",
    "<br>\n",
    "* fast fourier transform - scipy.fftpack\n",
    "<hr>\n",
    "* interpolaiton - scipy.interpolate\n",
    "<br>\n",
    "* ooptimization - scipy.optimize\n",
    "<br>\n",
    "* scipy spatial - scipy.spatial\n",
    "<hr>\n",
    "* image manipulation - scipy.ndimage"
   ]
  },
  {
   "cell_type": "markdown",
   "metadata": {},
   "source": [
    "### 1) File IO - SciPy"
   ]
  },
  {
   "cell_type": "code",
   "execution_count": 2,
   "metadata": {},
   "outputs": [],
   "source": [
    "# importing libraries\n",
    "\n",
    "import scipy\n",
    "import numpy as np"
   ]
  },
  {
   "cell_type": "code",
   "execution_count": 3,
   "metadata": {},
   "outputs": [
    {
     "ename": "AttributeError",
     "evalue": "module 'scipy' has no attribute 'io'",
     "output_type": "error",
     "traceback": [
      "\u001b[1;31m---------------------------------------------------------------------------\u001b[0m",
      "\u001b[1;31mAttributeError\u001b[0m                            Traceback (most recent call last)",
      "\u001b[1;32m<ipython-input-3-01019aeee400>\u001b[0m in \u001b[0;36m<module>\u001b[1;34m\u001b[0m\n\u001b[0;32m      2\u001b[0m \u001b[1;33m\u001b[0m\u001b[0m\n\u001b[0;32m      3\u001b[0m \u001b[0mdemo\u001b[0m \u001b[1;33m=\u001b[0m \u001b[0mnp\u001b[0m\u001b[1;33m.\u001b[0m\u001b[0marange\u001b[0m\u001b[1;33m(\u001b[0m\u001b[1;36m1\u001b[0m\u001b[1;33m,\u001b[0m\u001b[1;36m10\u001b[0m\u001b[1;33m,\u001b[0m\u001b[1;36m1\u001b[0m\u001b[1;33m)\u001b[0m\u001b[1;33m\u001b[0m\u001b[1;33m\u001b[0m\u001b[0m\n\u001b[1;32m----> 4\u001b[1;33m \u001b[0mscipy\u001b[0m\u001b[1;33m.\u001b[0m\u001b[0mio\u001b[0m\u001b[1;33m.\u001b[0m\u001b[0msavemat\u001b[0m\u001b[1;33m(\u001b[0m\u001b[1;34m'file.mat'\u001b[0m \u001b[1;33m,\u001b[0m \u001b[1;33m{\u001b[0m\u001b[1;34m'test'\u001b[0m \u001b[1;33m:\u001b[0m \u001b[0mdemo\u001b[0m\u001b[1;33m}\u001b[0m \u001b[1;33m)\u001b[0m\u001b[1;33m\u001b[0m\u001b[1;33m\u001b[0m\u001b[0m\n\u001b[0m",
      "\u001b[1;31mAttributeError\u001b[0m: module 'scipy' has no attribute 'io'"
     ]
    }
   ],
   "source": [
    "# making  numpy array\n",
    "\n",
    "demo = np.arange(1,10,1)\n",
    "scipy.io.savemat('file.mat' , {'test' : demo} )"
   ]
  },
  {
   "cell_type": "code",
   "execution_count": null,
   "metadata": {},
   "outputs": [],
   "source": [
    "scipy.io.loadmat('file.mat')"
   ]
  },
  {
   "cell_type": "markdown",
   "metadata": {},
   "source": [
    "### 2) Mathematical operations"
   ]
  },
  {
   "cell_type": "code",
   "execution_count": 4,
   "metadata": {},
   "outputs": [
    {
     "name": "stdout",
     "output_type": "stream",
     "text": [
      "Permutations and combinations\n",
      "\n",
      "P(5,2) =  20.0\n",
      "P(10,2) =  90.0\n",
      "\n",
      "C(6,1) =  6.0\n",
      "C(8,2) =  28.0\n"
     ]
    }
   ],
   "source": [
    "print(\"Permutations and combinations\")\n",
    "print(\"\\nP(5,2) = \" , scipy.special.perm(5,2))\n",
    "print(\"P(10,2) = \" , scipy.special.perm(10,2))\n",
    "print(\"\\nC(6,1) = \" , scipy.special.comb(6,1))\n",
    "print(\"C(8,2) = \" , scipy.special.comb(8,2))"
   ]
  },
  {
   "cell_type": "code",
   "execution_count": 5,
   "metadata": {
    "scrolled": true
   },
   "outputs": [
    {
     "name": "stdout",
     "output_type": "stream",
     "text": [
      "Linear Algebra Operations \n",
      "\n",
      "Solve \n",
      "\tx + y = 2\n",
      "\t2x - y = 4\n",
      "On solving,\n",
      "x = 2.0\n",
      "y = 0.0\n"
     ]
    }
   ],
   "source": [
    "print(\"Linear Algebra Operations \\n\")\n",
    "print(\"Solve \\n\\tx + y = 2\\n\\t2x - y = 4\")\n",
    "\n",
    "x = np.array([[1,1],[2,-1]])\n",
    "y = np.array([\n",
    "    [2],\n",
    "    [4]\n",
    "])\n",
    "\n",
    "print(\"On solving,\\nx =\" , scipy.linalg.solve(x,y)[0][0])\n",
    "print(\"y =\" , scipy.linalg.solve(x,y)[1][0])"
   ]
  },
  {
   "cell_type": "code",
   "execution_count": 6,
   "metadata": {},
   "outputs": [
    {
     "name": "stdout",
     "output_type": "stream",
     "text": [
      "Finding Determinant\n",
      "\n",
      "Let matrix A = \n",
      " [[ 1  2  1]\n",
      " [ 2  1  1]\n",
      " [ 3  0 -3]] \n",
      "\n",
      "The determinant value =  12.0\n"
     ]
    }
   ],
   "source": [
    "print(\"Finding Determinant\")\n",
    "\n",
    "mat = np.array([\n",
    "    [1,2,1],\n",
    "    [2,\n",
    "     1,1],\n",
    "    [3,0,-3]\n",
    "])\n",
    "\n",
    "print(\"\\nLet matrix A = \\n\" , mat , \"\\n\")\n",
    "\n",
    "print(\"The determinant value = \" , scipy.linalg.det(mat))"
   ]
  },
  {
   "cell_type": "code",
   "execution_count": 7,
   "metadata": {},
   "outputs": [
    {
     "name": "stdout",
     "output_type": "stream",
     "text": [
      "Finding the inverse of a matrix (say matrix A)\n",
      "\n",
      "inv(A) = \n",
      " [[-0.25        0.5         0.08333333]\n",
      " [ 0.75       -0.5         0.08333333]\n",
      " [-0.25        0.5        -0.25      ]]\n"
     ]
    }
   ],
   "source": [
    "print(\"Finding the inverse of a matrix (say matrix A)\\n\")\n",
    "\n",
    "print(\"inv(A) = \\n\" , scipy.linalg.inv(mat))"
   ]
  },
  {
   "cell_type": "code",
   "execution_count": 8,
   "metadata": {},
   "outputs": [],
   "source": [
    "from scipy import integrate"
   ]
  },
  {
   "cell_type": "code",
   "execution_count": 9,
   "metadata": {},
   "outputs": [
    {
     "name": "stdout",
     "output_type": "stream",
     "text": [
      "Performing Integration\n",
      "\n",
      "Let the function be y = x**2 + 3*x\n",
      "\n",
      "Integrating y between 0 to 5 limits , \n",
      "8.666666666666668\n"
     ]
    }
   ],
   "source": [
    "print(\"Performing Integration\\n\")\n",
    "\n",
    "print(\"Let the function be y = x**2 + 3*x\")\n",
    "f = lambda x : x**2 + 3*x\n",
    "\n",
    "print(\"\\nIntegrating y between 0 to 5 limits , \")\n",
    "print(integrate.quad(f , 0 , 2)[0])"
   ]
  },
  {
   "cell_type": "markdown",
   "metadata": {},
   "source": [
    "### 3) Optimization"
   ]
  },
  {
   "cell_type": "code",
   "execution_count": 10,
   "metadata": {},
   "outputs": [],
   "source": [
    "import scipy.optimize as optimize\n"
   ]
  },
  {
   "cell_type": "code",
   "execution_count": null,
   "metadata": {},
   "outputs": [],
   "source": []
  },
  {
   "cell_type": "code",
   "execution_count": null,
   "metadata": {},
   "outputs": [],
   "source": []
  }
 ],
 "metadata": {
  "kernelspec": {
   "display_name": "Python 3",
   "language": "python",
   "name": "python3"
  },
  "language_info": {
   "codemirror_mode": {
    "name": "ipython",
    "version": 3
   },
   "file_extension": ".py",
   "mimetype": "text/x-python",
   "name": "python",
   "nbconvert_exporter": "python",
   "pygments_lexer": "ipython3",
   "version": "3.7.1"
  }
 },
 "nbformat": 4,
 "nbformat_minor": 2
}
